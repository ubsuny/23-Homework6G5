{
  "nbformat": 4,
  "nbformat_minor": 0,
  "metadata": {
    "colab": {
      "provenance": [],
      "authorship_tag": "ABX9TyP7kTLIXYk9osEHSnFPQlkW",
      "include_colab_link": true
    },
    "kernelspec": {
      "name": "python3",
      "display_name": "Python 3"
    },
    "language_info": {
      "name": "python"
    }
  },
  "cells": [
    {
      "cell_type": "markdown",
      "metadata": {
        "id": "view-in-github",
        "colab_type": "text"
      },
      "source": [
        "<a href=\"https://colab.research.google.com/github/pratibha77118/23-Homework6G5/blob/integration_plots/exponential.ipynb\" target=\"_parent\"><img src=\"https://colab.research.google.com/assets/colab-badge.svg\" alt=\"Open In Colab\"/></a>"
      ]
    },
    {
      "cell_type": "code",
      "execution_count": 1,
      "metadata": {
        "id": "HplQtihciUr9"
      },
      "outputs": [],
      "source": [
        "from pickle import TRUE\n",
        "import numpy as np\n",
        "def simpson(f, a, b, n):\n",
        "    \"\"\"Approximates the definite integral of f from a to b by\n",
        "    the composite Simpson's rule, using n subintervals.\n",
        "    From http://en.wikipedia.org/wiki/Simpson's_rule\n",
        "    \"\"\"\n",
        "    h = (b - a) / n\n",
        "    i = np.arange(0,n)\n",
        "\n",
        "    s = f(a) + f(b)\n",
        "    s += 4 * np.sum( f( a + i[1::2] * h ) )\n",
        "    s += 2 * np.sum( f( a + i[2:-1:2] * h ) )\n",
        "\n",
        "    return s * h / 3\n",
        "\n",
        "def trapezoid(f, a, b, n):\n",
        "    \"\"\"Approximates the definite integral of f from a to b by\n",
        "    the composite trapezoidal rule, using n subintervals.\n",
        "    From http://en.wikipedia.org/wiki/Trapezoidal_rule\n",
        "    \"\"\"\n",
        "    h = (b - a) / n\n",
        "    s = f(a) + f(b)\n",
        "    i = np.arange(0,n)\n",
        "    s += 2 * np.sum( f(a + i[1:] * h) )\n",
        "    return s * h / 2\n",
        "\n",
        "\n",
        "def adaptive_trapezoid(f, a, b, acc, output=False):\n",
        "    \"\"\"\n",
        "    Uses the adaptive trapezoidal method to compute the definite integral\n",
        "    of f from a to b to desired accuracy acc.\n",
        "    \"\"\"\n",
        "    old_s = np.inf\n",
        "    h = b - a\n",
        "    n = 1\n",
        "    s = (f(a) + f(b)) * 0.5\n",
        "    if output == True :\n",
        "        print (\"N = \" + str(n+1) + \",  Integral = \" + str( h*s ))\n",
        "    while abs(h * (old_s - s*0.5)) > acc :\n",
        "        old_s = s\n",
        "        for i in np.arange(n) :\n",
        "            s += f(a + (i + 0.5) * h)\n",
        "        n *= 2.\n",
        "        h *= 0.5\n",
        "        if output == True :\n",
        "            print (\"N = \" + str(n) + \",  Integral = \" + str( h*s ))\n",
        "    return h * s"
      ]
    },
    {
      "cell_type": "code",
      "source": [
        "%%writefile calculas.py"
      ],
      "metadata": {
        "colab": {
          "base_uri": "https://localhost:8080/"
        },
        "id": "gABt2wWCiifM",
        "outputId": "7e154ccb-b9bd-4dcb-8ab2-647d2943a91a"
      },
      "execution_count": 2,
      "outputs": [
        {
          "output_type": "stream",
          "name": "stdout",
          "text": [
            "Writing calculas.py\n"
          ]
        }
      ]
    },
    {
      "cell_type": "code",
      "source": [
        "import math\n",
        "import numpy as np\n",
        "import matplotlib.pyplot as plt\n",
        "from math import pi\n",
        "from scipy.integrate import quad\n",
        "\n",
        "# Import the simpson function from calculus.py (assuming it's in the same directory)\n",
        "from calculas import *\n",
        "\n",
        "\n",
        "# Define the function to integrate\n",
        "def f(x):\n",
        "  safe_x = np.clip(x, 1e-10, np.inf)\n",
        "  return np.where(x != 0, np.exp(-1/safe_x), 0)\n",
        "\n",
        "# Define the integration bounds\n",
        "a = 1e-10\n",
        "b = 10 * 5  # Exclude the singularity at x = 0\n",
        "\n",
        "# Define the number of subintervals\n",
        "n = 20\n",
        "# Perform the numerical integration\n",
        "result, error = quad(f, a, b)\n",
        "\n",
        "# Print the result\n",
        "print(f\"The result of the integration is: {result}\")\n",
        "print(f\"Estimated error: {error}\")\n",
        "\n",
        "# Desired accuracy\n",
        "desired_accuracy = 1e-3\n",
        "\n",
        "# Use the simpson function to calculate the integral\n",
        "result_simpson = simpson(f, a, b, n)\n",
        "\n",
        "# Use the trapezoid function to calculate the integral\n",
        "result_trapezoid = trapezoid(f, a, b, n)\n",
        "\n",
        "# Perform adaptive trapezoidal integration\n",
        "result_adaptive_trapezoid = adaptive_trapezoid(f, a, b, desired_accuracy, output=False)\n",
        "\n",
        "# Calculate accuracies\n",
        "accuracy_simpson = -math.log10(np.abs((result_simpson - result) / result))\n",
        "accuracy_trapezoid = -math.log10(np.abs((result_trapezoid - result) / result))\n",
        "accuracy_adaptive_trapezoid = -math.log10(np.abs((result_adaptive_trapezoid - result) / result))\n",
        "\n",
        "print(f\"The approximate integral of f(x) from {a} to {b} using simpson: {result_simpson}\")\n",
        "print(f\"The approximate integral of f(x) from {a} to {b} using trapezoid: {result_trapezoid}\")\n",
        "print(f\"The approximate ntegral of f(x) from {a} to {b} using adaptive trapezoid: {result_adaptive_trapezoid}\")\n",
        "\n",
        "\n",
        "# Print the results\n",
        "print(f\"Accuracy of Simpson's rule: {accuracy_simpson} digits\")\n",
        "print(f\"Accuracy of trapezoid rule: {accuracy_trapezoid} digits\")\n",
        "print(f\"Accuracy of adaptive trapezoid rule: {accuracy_adaptive_trapezoid} digits\")\n",
        "\n",
        "# Plot the function and the area under the curve\n",
        "x_values = np.linspace(a, b, 1000)\n",
        "y_values = f(x_values)\n",
        "\n",
        "plt.plot(x_values, y_values, label='Function')\n",
        "plt.fill_between(x_values, 0, y_values, alpha=0.2, label='Area under the curve')\n",
        "plt.xlabel('x')\n",
        "plt.ylabel('f(x)')\n",
        "plt.legend()\n",
        "plt.title('Plot of exp(-1/x) vs x')\n",
        "plt.show()\n",
        "\n",
        "\n",
        "\n"
      ],
      "metadata": {
        "colab": {
          "base_uri": "https://localhost:8080/",
          "height": 615
        },
        "id": "MtouU3WddGSy",
        "outputId": "c3045ac8-d78e-4b4b-82f2-fcaf12c37a09"
      },
      "execution_count": 3,
      "outputs": [
        {
          "output_type": "stream",
          "name": "stdout",
          "text": [
            "The result of the integration is: 45.655225882027786\n",
            "Estimated error: 1.595162362178729e-09\n",
            "The approximate integral of f(x) from 1e-10 to 50 using simpson: 45.69990824221062\n",
            "The approximate integral of f(x) from 1e-10 to 50 using trapezoid: 45.46690007724078\n",
            "The approximate ntegral of f(x) from 1e-10 to 50 using adaptive trapezoid: 45.65514251840915\n",
            "Accuracy of Simpson's rule: 3.0093543907479208 digits\n",
            "Accuracy of trapezoid rule: 2.3845806638083284 digits\n",
            "Accuracy of adaptive trapezoid rule: 5.738513937664967 digits\n"
          ]
        },
        {
          "output_type": "display_data",
          "data": {
            "text/plain": [
              "<Figure size 640x480 with 1 Axes>"
            ],
            "image/png": "[encoded data removed]"
          },
          "metadata": {}
        }
      ]
    },
    {
      "cell_type": "code",
      "source": [],
      "metadata": {
        "id": "QPVhoya91m7A"
      },
      "execution_count": null,
      "outputs": []
    }
  ]
}